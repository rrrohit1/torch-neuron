{
 "cells": [
  {
   "cell_type": "markdown",
   "id": "10e6b250",
   "metadata": {},
   "source": [
    "# From Zero to CUDA: Python Acceleration 101\n",
    "\n",
    "Welcome to this beginner-friendly walkthrough of accelerating Python with CUDA! We'll explore how to run simple operations on your GPU using libraries like CuPy and Numba. Perfect for entry-level data scientists and ML enthusiasts!"
   ]
  },
  {
   "cell_type": "code",
   "execution_count": null,
   "id": "2abb3efb",
   "metadata": {},
   "outputs": [],
   "source": [
    "# Install dependencies\n",
    "!pip install cupy-cuda11x numba matplotlib --quiet\n"
   ]
  },
  {
   "cell_type": "markdown",
   "id": "36e6b3c3",
   "metadata": {},
   "source": [
    "## Step 1: Check if GPU is available"
   ]
  },
  {
   "cell_type": "code",
   "execution_count": null,
   "id": "f6993802",
   "metadata": {},
   "outputs": [],
   "source": [
    "import cupy as cp\n",
    "cp.show_config()"
   ]
  },
  {
   "cell_type": "markdown",
   "id": "a7c971d7",
   "metadata": {},
   "source": [
    "## Step 2: Basic CuPy Array Operation"
   ]
  },
  {
   "cell_type": "code",
   "execution_count": null,
   "id": "c081725e",
   "metadata": {},
   "outputs": [],
   "source": [
    "# Create an array on GPU\n",
    "x_gpu = cp.arange(10)\n",
    "print(\"GPU Array:\", x_gpu)\n",
    "print(\"Squared:\", x_gpu**2)"
   ]
  },
  {
   "cell_type": "markdown",
   "id": "9a4715e7",
   "metadata": {},
   "source": [
    "## Step 3: Compare CPU vs GPU for Matrix Multiplication"
   ]
  },
  {
   "cell_type": "code",
   "execution_count": null,
   "id": "95bc1e2c",
   "metadata": {},
   "outputs": [],
   "source": [
    "import numpy as np\n",
    "import time\n",
    "\n",
    "# CPU\n",
    "a_cpu = np.random.rand(1000, 1000)\n",
    "b_cpu = np.random.rand(1000, 1000)\n",
    "start_cpu = time.time()\n",
    "c_cpu = np.dot(a_cpu, b_cpu)\n",
    "print(\"CPU Time:\", time.time() - start_cpu)\n",
    "\n",
    "# GPU\n",
    "a_gpu = cp.random.rand(1000, 1000)\n",
    "b_gpu = cp.random.rand(1000, 1000)\n",
    "start_gpu = time.time()\n",
    "c_gpu = cp.dot(a_gpu, b_gpu)\n",
    "print(\"GPU Time:\", time.time() - start_gpu)"
   ]
  },
  {
   "cell_type": "markdown",
   "id": "5ab28944",
   "metadata": {},
   "source": [
    "## Step 4: Accelerating Python Functions with Numba + CUDA"
   ]
  },
  {
   "cell_type": "code",
   "execution_count": null,
   "id": "a08ac837",
   "metadata": {},
   "outputs": [],
   "source": [
    "from numba import cuda\n",
    "import numpy as np\n",
    "\n",
    "@cuda.jit\n",
    "def add_kernel(x, y, out):\n",
    "    idx = cuda.grid(1)\n",
    "    if idx < x.size:\n",
    "        out[idx] = x[idx] + y[idx]\n",
    "\n",
    "n = 1024\n",
    "x = np.arange(n).astype(np.float32)\n",
    "y = np.arange(n).astype(np.float32)\n",
    "out = np.zeros_like(x)\n",
    "\n",
    "threads_per_block = 128\n",
    "blocks_per_grid = (x.size + (threads_per_block - 1)) // threads_per_block\n",
    "\n",
    "add_kernel[blocks_per_grid, threads_per_block](x, y, out)\n",
    "print(\"Output[:10]:\", out[:10])"
   ]
  },
  {
   "cell_type": "markdown",
   "id": "e850e670",
   "metadata": {},
   "source": [
    "## Step 5: Visualizing Performance"
   ]
  },
  {
   "cell_type": "code",
   "execution_count": null,
   "id": "4ba6e96c",
   "metadata": {},
   "outputs": [],
   "source": [
    "import matplotlib.pyplot as plt\n",
    "\n",
    "labels = ['CPU', 'GPU']\n",
    "times = [0.3, 0.05]  # Example values\n",
    "plt.bar(labels, times, color=['orange', 'green'])\n",
    "plt.ylabel('Time (s)')\n",
    "plt.title('Matrix Multiplication Speed Comparison')\n",
    "plt.show()"
   ]
  },
  {
   "cell_type": "markdown",
   "id": "17c7f8c4",
   "metadata": {},
   "source": [
    "## 🎉 You're CUDA-Ready!\n",
    "\n",
    "Congrats on running your first CUDA-powered Python notebook. Keep experimenting and happy coding!"
   ]
  }
 ],
 "metadata": {},
 "nbformat": 4,
 "nbformat_minor": 5
}