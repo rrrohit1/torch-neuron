{
 "cells": [
  {
   "cell_type": "markdown",
   "metadata": {},
   "source": [
    "# PyTorch Starter\n",
    "\n",
    "This notebook will guide you through the basics of PyTorch, focusing on tensors and basic tensor operations."
   ]
  },
  {
   "cell_type": "markdown",
   "metadata": {},
   "source": [
    "## 1. Tensors\n",
    "\n",
    "Tensors are a generalization of matrices to more than two dimensions. PyTorch's `torch.Tensor` is the central class for all computations. Let's start by creating some basic tensors."
   ]
  },
  {
   "cell_type": "code",
   "execution_count": 3,
   "metadata": {},
   "outputs": [
    {
     "name": "stdout",
     "output_type": "stream",
     "text": [
      "Tensor x: tensor([1, 2, 3, 4])\n",
      "Random Tensor y: tensor([[0.3329, 0.3550, 0.2116],\n",
      "        [0.7688, 0.1415, 0.3955]])\n",
      "Zero Tensor z: tensor([[0., 0., 0.],\n",
      "        [0., 0., 0.]])\n"
     ]
    }
   ],
   "source": [
    "import torch\n",
    "\n",
    "# Create a tensor\n",
    "x = torch.tensor([1, 2, 3, 4])\n",
    "print(f'Tensor x: {x}')\n",
    "\n",
    "# Create a random tensor\n",
    "y = torch.rand(2, 3)\n",
    "print(f'Random Tensor y: {y}')\n",
    "\n",
    "# Create a zero tensor\n",
    "z = torch.zeros(2, 3)\n",
    "print(f'Zero Tensor z: {z}')"
   ]
  },
  {
   "cell_type": "code",
   "execution_count": 4,
   "metadata": {},
   "outputs": [
    {
     "name": "stdout",
     "output_type": "stream",
     "text": [
      "Addition: tensor([5, 7, 9])\n",
      "Multiplication: tensor([ 4, 10, 18])\n",
      "Matrix Multiplication: tensor([[19, 22],\n",
      "        [43, 50]])\n"
     ]
    }
   ],
   "source": [
    "# Basic tensor operations\n",
    "\n",
    "# Addition\n",
    "a = torch.tensor([1, 2, 3])\n",
    "b = torch.tensor([4, 5, 6])\n",
    "c = a + b\n",
    "print(f'Addition: {c}')\n",
    "\n",
    "# Multiplication\n",
    "d = a * b\n",
    "print(f'Multiplication: {d}')\n",
    "\n",
    "# Matrix multiplication\n",
    "e = torch.matmul(torch.tensor([[1, 2], [3, 4]]), torch.tensor([[5, 6], [7, 8]]))\n",
    "print(f'Matrix Multiplication: {e}')"
   ]
  },
  {
   "cell_type": "code",
   "execution_count": null,
   "metadata": {
    "vscode": {
     "languageId": "markdown"
    }
   },
   "outputs": [],
   "source": []
  }
 ],
 "metadata": {
  "kernelspec": {
   "display_name": "Python 3",
   "language": "python",
   "name": "python3"
  },
  "language_info": {
   "codemirror_mode": {
    "name": "ipython",
    "version": 3
   },
   "file_extension": ".py",
   "mimetype": "text/x-python",
   "name": "python",
   "nbconvert_exporter": "python",
   "pygments_lexer": "ipython3",
   "version": "3.9.19"
  }
 },
 "nbformat": 4,
 "nbformat_minor": 4
}
